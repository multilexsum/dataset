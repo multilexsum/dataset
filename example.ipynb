{
 "cells": [
  {
   "cell_type": "code",
   "execution_count": 2,
   "metadata": {},
   "outputs": [],
   "source": [
    "from datasets import load_dataset"
   ]
  },
  {
   "cell_type": "code",
   "execution_count": 4,
   "metadata": {},
   "outputs": [
    {
     "name": "stderr",
     "output_type": "stream",
     "text": [
      "WARNING: Logging before flag parsing goes to stderr.\n",
      "W0616 23:28:27.884900 4519116224 builder.py:550] Reusing dataset multi_lexsum (/Users/shannons/.cache/huggingface/datasets/multi_lexsum/v20220616/1.0.0/02510246ddda44ba273ca3065d1f5f45460f2c92973309255e777cefea8d789b)\n"
     ]
    },
    {
     "data": {
      "application/vnd.jupyter.widget-view+json": {
       "model_id": "db9a6c332c2d40e290028c87aa84bf4d",
       "version_major": 2,
       "version_minor": 0
      },
      "text/plain": [
       "  0%|          | 0/3 [00:00<?, ?it/s]"
      ]
     },
     "metadata": {},
     "output_type": "display_data"
    }
   ],
   "source": [
    "multi_lexsum = load_dataset(\"multi_lexsum.py\", name=\"v20220616\")\n",
    "# Download multi_lexsum locally and load it as a Dataset object "
   ]
  },
  {
   "cell_type": "code",
   "execution_count": 5,
   "metadata": {},
   "outputs": [],
   "source": [
    "example = multi_lexsum[\"test\"][0] # The first instance of the test set "
   ]
  },
  {
   "cell_type": "code",
   "execution_count": 6,
   "metadata": {},
   "outputs": [
    {
     "data": {
      "text/plain": [
       "'Case 2:14-cv-00186-MEF-CSC Document 1 Filed 03/18/14 Page 1 of 24\\n\\nRECEiVED\\nIN THE UNITED STATES DIscTcquR FOR THE MIDDLE DISTRICTLO ALAAMA 1\\n\\nSHARNAL'"
      ]
     },
     "execution_count": 6,
     "metadata": {},
     "output_type": "execute_result"
    }
   ],
   "source": [
    "example[\"sources\"][0][:150]"
   ]
  },
  {
   "cell_type": "code",
   "execution_count": 7,
   "metadata": {},
   "outputs": [
    {
     "name": "stdout",
     "output_type": "stream",
     "text": [
      "==============================\n",
      "On March 8th, 2014, several citizens of Montgomery, Alabama, who had been imprisoned for failing to pay traffic fines, filed a lawsuit in the U.S. District Court for the Middle District of Alabama, under 42 U.S.C. §1983, against the City of Montgomery, Alabama. The plaintiffs, represented by Equal Justice Under Law and private counsel, asked the court for a declaratory judgment that the plaintiffs' rights were violated, compensation for the damages caused by the city's conduct, and attorneys' fees. The plaintiffs alleged they did not have the ability to pay for the traffic tickets and that the City should not have imprisoned them for failing to pay the traffic tickets when they did not attempt to determine whether the plaintiffs had an ability to pay.\n",
      "\n",
      "On May 1, 2014, the district court (Judge Mark E. Fuller) granted a motion for a preliminary injunction. The injunction enjoined the city from attempting to collect monies owed to the city associated with traffic tickets by the plaintiffs. The city was also required to submit a comprehensive plan on how they will determine an individual's ability to pay for traffic fines. On August 20, 2014, the case was reassigned to Judge Myron H. Thompson, and on August 21, 2014, Judge Thompson extended the injunction until the court ordered a change.\n",
      "\n",
      "On October 31, 2014, the parties jointly moved to dismiss the case because they entered into a settlement agreement about the claims for declaratory and injunctive relief. The court granted this dismissal on November 17, 2014, and the court agreed to the plaintiffs’ request to maintain jurisdiction over the settlement in case of any breaches by the defendant. \n",
      "\n",
      "Within the settlement, the Municipal Court of the City of Montgomery agreed to numerous changes in its operations, including using a microphone in its courtroom proceedings, notifying this plaintiff's counsel within 12 hours of a defendant being jailed for nonpayment of a fine, and training public defenders and prosecutors on compliance with Bearden v. Georgia and Turner v. Rodgers. The terms of the settlement agreement lasted up to three years.\n",
      "\n",
      "On December 12, 2014, Judge Thompson formally closed the case, though the court retained jurisdiction over the settlement and allowed the parties to resolve the issue of attorneys' fees, which was subsequently resolved on January 16, 2015. \n",
      "\n",
      "On April 2, 2015, the plaintiffs filed a notice with the court that the defendants willfully violated the settlement agreement. The matter seemed to be resolved quickly because on April 7, 2015, Judge Thompson ordered that no further action would be taken on the notice because defendants had taken corrective action. \n",
      "\n",
      "The case is now closed.\n",
      "==============================\n",
      "The plaintiffs filed a lawsuit on March 8, 2014, alleging that the City of Montgomery, Alabama, improperly imprisoned them for failing to pay traffic fines. They alleged that they did not have an ability to pay the fines due to their financial circumstances and that the city did not consider their ability to pay. On May 1, 2014, the District Court granted the plaintiffs motion for a preliminary injunction, preventing the city from collecting more money from traffic tickets of plaintiffs'. On October 31, 2014 the parties filed to dismiss the case pursuant to a settlement agreement, which included numerous changes to Municipal Court proceedings. The case is now closed.\n",
      "==============================\n",
      "People who were imprisoned for failing to pay traffic fines filed a lawsuit against the City of Montgomery(M.D. Ala.)\n"
     ]
    }
   ],
   "source": [
    "for sum_len in [\"long\", \"short\", \"tiny\"]:\n",
    "    print(\"===\"*10)\n",
    "    print(example[\"summary/\" + sum_len]) # Summaries of three lengths"
   ]
  },
  {
   "cell_type": "code",
   "execution_count": 17,
   "metadata": {},
   "outputs": [
    {
     "data": {
      "text/plain": [
       "dict_keys(['id', 'sources', 'summary/long', 'summary/short', 'summary/tiny'])"
      ]
     },
     "execution_count": 17,
     "metadata": {},
     "output_type": "execute_result"
    }
   ],
   "source": [
    "example.keys()"
   ]
  }
 ],
 "metadata": {
  "kernelspec": {
   "display_name": "Python 3",
   "language": "python",
   "name": "python3"
  },
  "language_info": {
   "codemirror_mode": {
    "name": "ipython",
    "version": 3
   },
   "file_extension": ".py",
   "mimetype": "text/x-python",
   "name": "python",
   "nbconvert_exporter": "python",
   "pygments_lexer": "ipython3",
   "version": "3.8.3"
  }
 },
 "nbformat": 4,
 "nbformat_minor": 4
}
